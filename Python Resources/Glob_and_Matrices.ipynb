{
 "cells": [
  {
   "cell_type": "markdown",
   "metadata": {},
   "source": [
    "# Importing Many Files at Once"
   ]
  },
  {
   "cell_type": "code",
   "execution_count": null,
   "metadata": {
    "collapsed": true
   },
   "outputs": [],
   "source": [
    "import numpy as np\n",
    "from glob import glob\n",
    "\n",
    "# How to load a large number of files at once\n",
    "fnames = glob('/home/mrice/Desktop/Astro120/UGSI_files/Lab2_tutorials/lab2_week1/incand120_data/incand120*')\n",
    "incand_files = [np.genfromtxt(f, skiprows=17, skip_footer=1, usecols=(0,1)) for f in fnames]\n",
    "print len(incand_files)\n"
   ]
  },
  {
   "cell_type": "markdown",
   "metadata": {},
   "source": [
    "# Working with Matrices in Python"
   ]
  },
  {
   "cell_type": "code",
   "execution_count": 2,
   "metadata": {
    "collapsed": false
   },
   "outputs": [
    {
     "name": "stdout",
     "output_type": "stream",
     "text": [
      "[[  1.   4.   9.]\n",
      " [ 16.  25.  36.]\n",
      " [ 49.  64.  81.]]\n",
      "[[  30.   36.   42.]\n",
      " [  66.   81.   96.]\n",
      " [ 102.  126.  150.]]\n"
     ]
    }
   ],
   "source": [
    "import numpy as np\n",
    "# Initiate a matrix to work with\n",
    "x = np.array([[1.,2.,3.],[4.,5.,6.],[7.,8.,9.]])\n",
    "\n",
    "# Example 1 of matrix dot product; works because matrices are both square.\n",
    "y1 = x**2\n",
    "print y1\n",
    "\n",
    "# Example 2 of matrix dot product\n",
    "y2 = np.dot(x,x)\n",
    "print y2"
   ]
  },
  {
   "cell_type": "code",
   "execution_count": 3,
   "metadata": {
    "collapsed": false
   },
   "outputs": [
    {
     "name": "stdout",
     "output_type": "stream",
     "text": [
      "[[1 2 3]\n",
      " [4 5 6]]\n",
      "[[1 4]\n",
      " [2 5]\n",
      " [3 6]]\n"
     ]
    }
   ],
   "source": [
    "# Non-square matrix\n",
    "x2 = np.matrix([[1,2,3],[4,5,6]])\n",
    "x2_transpose = np.transpose(x2)\n",
    "print x2\n",
    "print x2_transpose"
   ]
  },
  {
   "cell_type": "code",
   "execution_count": 4,
   "metadata": {
    "collapsed": false
   },
   "outputs": [
    {
     "name": "stdout",
     "output_type": "stream",
     "text": [
      "[[17 22 27]\n",
      " [22 29 36]\n",
      " [27 36 45]]\n"
     ]
    }
   ],
   "source": [
    "# Matrix dot product still works for non-square matrices\n",
    "print np.dot(x2_transpose, x2)"
   ]
  },
  {
   "cell_type": "code",
   "execution_count": 5,
   "metadata": {
    "collapsed": false
   },
   "outputs": [
    {
     "name": "stdout",
     "output_type": "stream",
     "text": [
      "[[-2.   1. ]\n",
      " [ 1.5 -0.5]]\n",
      "[[  1.00000000e+00   4.44089210e-16]\n",
      " [  0.00000000e+00   1.00000000e+00]]\n"
     ]
    }
   ],
   "source": [
    "# Now, let's invert a matrix\n",
    "n = np.array([[1.,2.],[3.,4.]])\n",
    "\n",
    "# Inverse of n\n",
    "x3 = np.linalg.inv(n)\n",
    "print x3\n",
    "\n",
    "# Dot product between the two; produces identity matrix\n",
    "x3_dot_n = np.dot(x3, n)\n",
    "print x3_dot_n"
   ]
  },
  {
   "cell_type": "code",
   "execution_count": null,
   "metadata": {
    "collapsed": true
   },
   "outputs": [],
   "source": []
  }
 ],
 "metadata": {
  "anaconda-cloud": {},
  "kernelspec": {
   "display_name": "Python [Root]",
   "language": "python",
   "name": "Python [Root]"
  },
  "language_info": {
   "codemirror_mode": {
    "name": "ipython",
    "version": 2
   },
   "file_extension": ".py",
   "mimetype": "text/x-python",
   "name": "python",
   "nbconvert_exporter": "python",
   "pygments_lexer": "ipython2",
   "version": "2.7.12"
  }
 },
 "nbformat": 4,
 "nbformat_minor": 0
}
