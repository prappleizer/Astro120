{
 "cells": [
  {
   "cell_type": "markdown",
   "metadata": {},
   "source": [
    "# Welcome to A120 -Optical and IR lab"
   ]
  },
  {
   "cell_type": "markdown",
   "metadata": {},
   "source": [
    "A full list of useful UNIX commands with their options and common usages can be found on the Python Decal website, at http://github.com/prappleizer/Astro120/ (unix_full.pdf) . Additionally, the Python textbook found at http://prappleizer.github.io/textbook.pdf has the first chapter dedicated to UNIX. It is also a good resource for an overview of python in an astronomical context if these tutorials are speeding by too quickly for you."
   ]
  },
  {
   "cell_type": "markdown",
   "metadata": {},
   "source": [
    "## Python"
   ]
  },
  {
   "cell_type": "markdown",
   "metadata": {},
   "source": [
    "(For a more detailed introduction, see the texbook). Python is an open-source, high-level, freely available programming language. It has become the favored language of astronomers, and most new codes and programs are being written in it. So how do we do things with python? This crash course will skip over some of the fundamental basics to get to what you will need in this lab, that is, to read in data and use it. Note the import statements that will be required, but don't worry too much about why for now. We will cover this next week."
   ]
  },
  {
   "cell_type": "code",
   "execution_count": null,
   "metadata": {
    "collapsed": true
   },
   "outputs": [],
   "source": [
    "print 3 + 5 \n",
    "x = 3+5\n",
    "print \"x is: \", x\n",
    "y = 2**x\n",
    "print y"
   ]
  },
  {
   "cell_type": "code",
   "execution_count": 1,
   "metadata": {
    "collapsed": true
   },
   "outputs": [],
   "source": [
    "import numpy as np\n",
    "import matplotlib.pyplot as plt\n",
    "%matplotlib inline\n",
    "#making a fake dataset \n",
    "\n",
    "x_vals = np.arange(100) #make an array of x values [0,1,2,3,4,5,6,7,8...99]\n",
    "y_vals = x_vals**2  #make y values that are the square of each x value [0,1,4,9,...]\n",
    "\n",
    "data_array = [x_vals,y_vals] #put them into the same structure\n",
    "data_array = np.transpose(data_array) #turn it into columns from ordered pairs\n",
    "np.savetxt('filename.txt',data_array) #save it to a file\n",
    "\n",
    "#Read it back in (this is one way to load your data - or any column based ascii file)\n",
    "\n",
    "data_raw = np.genfromtxt('filename.txt') #loads the file name\n",
    "data_raw = np.transpose(data_raw) # transposes from ordered pairs [[x1,y1],[x2,y2],...] into separate arrays by column [[x1,x2,...],[y1,y2,...]]\n",
    "\n",
    "x = data_raw[0] #we use closed brackets to \"index\" lists, arrays, strings, etc., to pull the 0th, 1st, 2nd, etc elements.\n",
    "y = data_raw[1]"
   ]
  },
  {
   "cell_type": "code",
   "execution_count": 2,
   "metadata": {
    "collapsed": false
   },
   "outputs": [
    {
     "data": {
      "image/png": "[encoded data removed]",
      "text/plain": [
       "<matplotlib.figure.Figure at 0x107a489d0>"
      ]
     },
     "metadata": {},
     "output_type": "display_data"
    }
   ],
   "source": [
    "#Let's plot the data\n",
    "\n",
    "plt.plot(x,y,'ro',label='fake data') #many matplotlib shortcuts (some shown in textbook) - here \"ro\" means red circles\n",
    "#some useful things we can do before viewing\n",
    "plt.title('Informative title')\n",
    "plt.xlabel('X-axis (units)')\n",
    "plt.ylabel('Y-axis (units)')\n",
    "plt.yscale('log') #what should a power-law dataset look like in log-log space?\n",
    "plt.xscale('log')\n",
    "#plt.xlim((low,high)) #would let us manually set the lower and upper end of the x axis values\n",
    "#plt.ylim((low,high)) #same thing\n",
    "plt.tight_layout() #reduce whitespace\n",
    "plt.legend(loc=2) #show any specified \"labels\" from plotting in a legend, where loc=1,2,3,4 are the 4 corners of the graph. \n",
    "#Legend location, opacity, etc can all be fiddled with much more, this is the basic quick and dirty way. \n",
    "\n",
    "plt.show() #always needed to show the plot at the end.\n"
   ]
  },
  {
   "cell_type": "markdown",
   "metadata": {},
   "source": [
    "This notebook, along with any we show, will be available on github at http://github.com/prappleizer/Astro120 "
   ]
  },
  {
   "cell_type": "markdown",
   "metadata": {
    "collapsed": true
   },
   "source": [
    "## Functional Programming"
   ]
  },
  {
   "cell_type": "markdown",
   "metadata": {},
   "source": [
    "Since most of you know python already, the last thing I wanted to emphasize for the day is functional programming. We'll come back to this more next week, but functional programming is the process of creating functions that do specific tasks (taking an input and output), which allows you to call your functions within your code to perform the tasks you need. It is useful for organization, usability, and debugging. "
   ]
  },
  {
   "cell_type": "code",
   "execution_count": 4,
   "metadata": {
    "collapsed": false
   },
   "outputs": [
    {
     "name": "stdout",
     "output_type": "stream",
     "text": [
      "Imad Pasha and Malena Rice are you UGSIs for the semester\n"
     ]
    }
   ],
   "source": [
    "#Example of function\n",
    "\n",
    "def name_concat(first_name, last_name):\n",
    "    '''\n",
    "    Takes in a first an last name and returns a single string with the first and last name.\n",
    "    INPUT: first_name (string), last_name (string)\n",
    "    OUTPUT: full name (string)\n",
    "    '''\n",
    "    full_name = first_name + ' ' + last_name\n",
    "    return full_name\n",
    "\n",
    "name1 = name_concat('Imad','Pasha')\n",
    "name2 = name_concat('Malena','Rice')\n",
    "print '%s and %s are you UGSIs for the semester' %(name1,name2)"
   ]
  },
  {
   "cell_type": "code",
   "execution_count": 5,
   "metadata": {
    "collapsed": true
   },
   "outputs": [],
   "source": [
    "def bootstrap_resample(X, n=None):\n",
    "    \"\"\" Bootstrap resample an array_like\n",
    "    Parameters\n",
    "    ----------\n",
    "    X : array_like\n",
    "      data to resample\n",
    "    n : int, optional\n",
    "      length of resampled array, equal to len(X) if n==None\n",
    "    Results\n",
    "    -------\n",
    "    returns X_resamples\n",
    "    \"\"\"\n",
    "    if n == None:\n",
    "        n = len(X)\n",
    "        \n",
    "    resample_i = np.floor(np.random.rand(n)*len(X)).astype(int)\n",
    "    X_resample = X[resample_i]\n",
    "    return X_resample\n"
   ]
  },
  {
   "cell_type": "code",
   "execution_count": null,
   "metadata": {
    "collapsed": true
   },
   "outputs": [],
   "source": []
  }
 ],
 "metadata": {
  "anaconda-cloud": {},
  "kernelspec": {
   "display_name": "Python [Root]",
   "language": "python",
   "name": "Python [Root]"
  },
  "language_info": {
   "codemirror_mode": {
    "name": "ipython",
    "version": 2
   },
   "file_extension": ".py",
   "mimetype": "text/x-python",
   "name": "python",
   "nbconvert_exporter": "python",
   "pygments_lexer": "ipython2",
   "version": "2.7.12"
  }
 },
 "nbformat": 4,
 "nbformat_minor": 0
}
