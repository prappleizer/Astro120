{
 "cells": [
  {
   "cell_type": "markdown",
   "metadata": {},
   "source": [
    "# Welcome to A120 -Optical and IR lab"
   ]
  },
  {
   "cell_type": "markdown",
   "metadata": {},
   "source": [
    "In this class we will be performing a variety of astronomical tasks, from observations to data reduction and analysis. These tasks will require us to be familiar with UNIX based filesystems (such as those on the lab computers running Ubuntu Linux, or Mac computers), and will require us to become comfortable writing scripts and routines in Python (or, if you insist, IDL). A note, Malena and I will be doing our tutorials in python, and are mostly well versed in Python. If you choose to write in IDL, we won't be of much help, but Gaspard knows IDL and may be of some assistance. He will not be as readily available. "
   ]
  },
  {
   "cell_type": "code",
   "execution_count": null,
   "metadata": {
    "collapsed": false
   },
   "outputs": [],
   "source": [
    "pwd"
   ]
  },
  {
   "cell_type": "markdown",
   "metadata": {},
   "source": [
    "The above command (which can be used in unix or in ipython (specifically, which is why it works here), demonstrates where you are in a filesystem, if you ever get lost."
   ]
  },
  {
   "cell_type": "code",
   "execution_count": null,
   "metadata": {
    "collapsed": false
   },
   "outputs": [],
   "source": [
    "ls"
   ]
  },
  {
   "cell_type": "markdown",
   "metadata": {},
   "source": [
    "The \"ls\" command will show you the contents of the directory you are in. It has several flags (or optional arguments) which can be used to tailor the commands to your needs. For example, \"ls -a\" will list all files, including hidden ones, \"ls -ltr\" will show the files and when they were created, by whom, and permissions"
   ]
  },
  {
   "cell_type": "code",
   "execution_count": null,
   "metadata": {
    "collapsed": false
   },
   "outputs": [],
   "source": [
    "ls -ltr"
   ]
  },
  {
   "cell_type": "code",
   "execution_count": null,
   "metadata": {
    "collapsed": false
   },
   "outputs": [],
   "source": [
    "cd /Users/ipasha/"
   ]
  },
  {
   "cell_type": "markdown",
   "metadata": {},
   "source": [
    "The \"cd\" command is how we navigate the filesystem and move between folders. It has several ways of taking your intended location. At all times, you can use the full path location, defined from the root directory of the system, to jump to another location. If you are trying to cd into a folder within your current directory you can use its name alone, i.e. \"cd foldername\". To move up in the directory structure one level at a time, we can use \"cd ..\" (or, to go two up, \"cd ../..\" etc.). "
   ]
  },
  {
   "cell_type": "code",
   "execution_count": null,
   "metadata": {
    "collapsed": false
   },
   "outputs": [],
   "source": [
    "mv hms.py hours-min-sec.py"
   ]
  },
  {
   "cell_type": "markdown",
   "metadata": {},
   "source": [
    "The above command is an example of \"move\", and it is how we rename or move files within our directories. Here I have chosen to \"move\" hms.py to a new name, but in the same location. I could move and rename at the same time by appending the full path to the front of the new filename, i.e., \"mv hms.py /Users/ipasha/documents/hms2.py\" "
   ]
  },
  {
   "cell_type": "code",
   "execution_count": null,
   "metadata": {
    "collapsed": true
   },
   "outputs": [],
   "source": [
    "cp hours-min-sec.py version2.py"
   ]
  },
  {
   "cell_type": "markdown",
   "metadata": {},
   "source": [
    "The \"cp\" command is how we copy files. Here I copy a file into the same location, but in the same formatting as \"mv\" I could also specify a new path location. The first argument also can take a full path, if you are not already in the directory with the file. "
   ]
  },
  {
   "cell_type": "markdown",
   "metadata": {},
   "source": [
    "A full list of useful UNIX commands with their options and common usages can be found on the Python Decal website, at http://ugastro.berkeley.edu/pydecal/unix_full.pdf . Additionally, the Python textbook found at http://ugastro.berkeley.edu/pydecal/textbook.pdf has the first chapter dedicated to UNIX. It is also a good resource for an overview of python in an astronomical context if these tutorials are speeding by too quickly for you."
   ]
  },
  {
   "cell_type": "markdown",
   "metadata": {},
   "source": [
    "## Python"
   ]
  },
  {
   "cell_type": "markdown",
   "metadata": {},
   "source": [
    "(For a more detailed introduction, see the texbook). Python is an open-source, high-level, freely available programming language. It has become the favored language of astronomers, and most new codes and programs are being written in it. So how do we do things with python? This crash course will skip over some of the fundamental basics to get to what you will need in this lab, that is, to read in data and use it. Note the import statements that will be required, but don't worry too much about why for now. We will cover this next week."
   ]
  },
  {
   "cell_type": "code",
   "execution_count": null,
   "metadata": {
    "collapsed": true
   },
   "outputs": [],
   "source": [
    "import numpy as np\n",
    "import matplotlib.pyplot as plt\n",
    "%matplotlib inline\n",
    "#making a fake dataset \n",
    "\n",
    "x_vals = np.arange(100) #make an array of x values [0,1,2,3,4,5,6,7,8...99]\n",
    "y_vals = x_vals**2  #make y values that are the square of each x value [0,1,4,9,...]\n",
    "\n",
    "data_array = [x_vals,y_vals] #put them into the same structure\n",
    "data_array = np.transpose(data_array) #turn it into columns from ordered pairs\n",
    "np.savetxt('filename.txt',data_array) #save it to a file\n",
    "\n",
    "#Read it back in (this is one way to load your data - or any column based ascii file)\n",
    "\n",
    "data_raw = np.genfromtxt('filename.txt') #loads the file name\n",
    "data_raw = np.transpose(data_raw) # transposes from ordered pairs [[x1,y1],[x2,y2],...] into separate arrays by column [[x1,x2,...],[y1,y2,...]]\n",
    "\n",
    "x = data_raw[0] #we use closed brackets to \"index\" lists, arrays, strings, etc., to pull the 0th, 1st, 2nd, etc elements.\n",
    "y = data_raw[1]"
   ]
  },
  {
   "cell_type": "code",
   "execution_count": null,
   "metadata": {
    "collapsed": false
   },
   "outputs": [],
   "source": [
    "#Let's plot the data\n",
    "\n",
    "plt.plot(x,y,'ro',label='fake data') #many matplotlib shortcuts (some shown in textbook) - here \"ro\" means red circles\n",
    "#some useful things we can do before viewing\n",
    "plt.title('Informative title')\n",
    "plt.xlabel('X-axis (units)')\n",
    "plt.ylabel('Y-axis (units)')\n",
    "plt.yscale('log') #what should a power-law dataset look like in log-log space?\n",
    "plt.xscale('log')\n",
    "#plt.xlim((low,high)) #would let us manually set the lower and upper end of the x axis values\n",
    "#plt.ylim((low,high)) #same thing\n",
    "plt.tight_layout() #reduce whitespace\n",
    "plt.legend(loc=2) #show any specified \"labels\" from plotting in a legend, where loc=1,2,3,4 are the 4 corners of the graph. \n",
    "#Legend location, opacity, etc can all be fiddled with much more, this is the basic quick and dirty way. \n",
    "\n",
    "plt.show() #always needed to show the plot at the end.\n"
   ]
  },
  {
   "cell_type": "markdown",
   "metadata": {},
   "source": [
    "This notebook, along with any we show, will be available on github at http://github.com/prappleizer/Astro120 "
   ]
  },
  {
   "cell_type": "code",
   "execution_count": null,
   "metadata": {
    "collapsed": true
   },
   "outputs": [],
   "source": []
  }
 ],
 "metadata": {
  "anaconda-cloud": {},
  "kernelspec": {
   "display_name": "Python [Root]",
   "language": "python",
   "name": "Python [Root]"
  },
  "language_info": {
   "codemirror_mode": {
    "name": "ipython",
    "version": 2
   },
   "file_extension": ".py",
   "mimetype": "text/x-python",
   "name": "python",
   "nbconvert_exporter": "python",
   "pygments_lexer": "ipython2",
   "version": "2.7.12"
  }
 },
 "nbformat": 4,
 "nbformat_minor": 0
}
